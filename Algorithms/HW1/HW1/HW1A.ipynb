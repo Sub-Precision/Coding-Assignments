{
 "cells": [
  {
   "cell_type": "code",
   "execution_count": 1,
   "id": "569f6a48-82fe-47d1-af37-a489b47f08bd",
   "metadata": {},
   "outputs": [
    {
     "name": "stdin",
     "output_type": "stream",
     "text": [
      "Input a string:  wendigo\n",
      "Input a second string:  godiwen\n"
     ]
    },
    {
     "name": "stdout",
     "output_type": "stream",
     "text": [
      "wendigo is an Anagram of godiwen\n"
     ]
    }
   ],
   "source": [
    "def checkAnagrams(string1, string2):\n",
    "    # put characters of strings into arrays\n",
    "    stringArray1 = list(string1)\n",
    "    stringArray2 = list(string2)\n",
    "    # get length of characters in input for loops\n",
    "    stringLength1 = len(stringArray1)\n",
    "    stringLength2 = len(stringArray2)\n",
    "    # setting up counter variable to test matched characters\n",
    "    counter = 0\n",
    "    # quick evaluation to see if strings are same size\n",
    "    if stringLength1 != stringLength2:\n",
    "        return False\n",
    "    else:\n",
    "        # evaluating strings with nested for loops\n",
    "        for x in range(stringLength1):\n",
    "            for y in range(stringLength2):\n",
    "                if stringArray1[x] == stringArray2[y]:\n",
    "                    counter += 1\n",
    "                    break\n",
    "                else:\n",
    "                    continue\n",
    "        if counter == stringLength1:\n",
    "            return True\n",
    "        else:\n",
    "            return False\n",
    "\n",
    "def main():\n",
    "    # getting information from user\n",
    "    # i went with this format because an anagram can use a phrase, sample output cannot use phrases\n",
    "    string1 = input(\"Input a string: \")\n",
    "    string2 = input(\"Input a second string: \")\n",
    "    # quick evaluation to see if strings are same size\n",
    "    result = checkAnagrams(string1, string2)\n",
    "    if result == True:\n",
    "        print(string1, \"is an Anagram of\", string2)\n",
    "    else:\n",
    "        print(string1, \"is not an Anagram of\", string2)\n",
    "\n",
    "main()"
   ]
  },
  {
   "cell_type": "code",
   "execution_count": null,
   "id": "f648dbba-6647-4797-b036-c78435764cf1",
   "metadata": {},
   "outputs": [],
   "source": []
  }
 ],
 "metadata": {
  "kernelspec": {
   "display_name": "Python 3 (ipykernel)",
   "language": "python",
   "name": "python3"
  },
  "language_info": {
   "codemirror_mode": {
    "name": "ipython",
    "version": 3
   },
   "file_extension": ".py",
   "mimetype": "text/x-python",
   "name": "python",
   "nbconvert_exporter": "python",
   "pygments_lexer": "ipython3",
   "version": "3.9.13"
  }
 },
 "nbformat": 4,
 "nbformat_minor": 5
}
